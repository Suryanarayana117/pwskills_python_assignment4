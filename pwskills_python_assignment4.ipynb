{
 "cells": [
  {
   "cell_type": "markdown",
   "id": "eb4e4b0c",
   "metadata": {},
   "source": [
    "### Q1. Which keyword is used to create a function? Create a function to return a list of odd numbers in the range of 1 to 25."
   ]
  },
  {
   "cell_type": "markdown",
   "id": "dfa6d0c3",
   "metadata": {},
   "source": [
    "def key word is used to define a function in python."
   ]
  },
  {
   "cell_type": "code",
   "execution_count": 9,
   "id": "e1899ae2",
   "metadata": {},
   "outputs": [],
   "source": [
    "def odd_number():\n",
    "    odd_list = []\n",
    "    for i in range(1,26):\n",
    "        if i%2 !=0 :\n",
    "            odd_list.append(i)\n",
    "    print(odd_list)        "
   ]
  },
  {
   "cell_type": "code",
   "execution_count": 10,
   "id": "7e3a1c94",
   "metadata": {},
   "outputs": [
    {
     "name": "stdout",
     "output_type": "stream",
     "text": [
      "[1, 3, 5, 7, 9, 11, 13, 15, 17, 19, 21, 23, 25]\n"
     ]
    }
   ],
   "source": [
    "odd_number()"
   ]
  },
  {
   "cell_type": "code",
   "execution_count": null,
   "id": "1fcf18f9",
   "metadata": {},
   "outputs": [],
   "source": []
  },
  {
   "cell_type": "markdown",
   "id": "12a931d8",
   "metadata": {},
   "source": [
    "### Q2. Why *args and **kwargs is used in some functions? Create a function each for *args and **kwargs to demonstrate their use."
   ]
  },
  {
   "cell_type": "markdown",
   "id": "43a57872",
   "metadata": {},
   "source": [
    "\"*args\" and \"**kwargs\" are commonly used in Python functions to work with variable-length argument lists.\n",
    "They allow you to pass a varying number of arguments to a function without needing to specify them all individually in the function's parameter list."
   ]
  },
  {
   "cell_type": "markdown",
   "id": "de1a8ca5",
   "metadata": {},
   "source": [
    "**kwargs collects all the keyword arguments passed to the function into a dictionary named kwargs. The function then iterates through this dictionary and prints each key-value pair.\n",
    "\n",
    "Using *args and **kwargs can be particularly useful when you want to create flexible and reusable functions that can handle different numbers of arguments."
   ]
  },
  {
   "cell_type": "markdown",
   "id": "7b09fa3b",
   "metadata": {},
   "source": [
    "*args collects all the positional arguments passed to the function into a tuple named args. The function then iterates through this tuple and prints each argument."
   ]
  },
  {
   "cell_type": "code",
   "execution_count": 11,
   "id": "b9a169e3",
   "metadata": {},
   "outputs": [
    {
     "name": "stdout",
     "output_type": "stream",
     "text": [
      "Hello\n",
      "World\n",
      "42\n",
      "[1, 2, 3]\n"
     ]
    }
   ],
   "source": [
    "# Function that takes any number of positional arguments and prints them\n",
    "def print_args(*args):\n",
    "    for arg in args:\n",
    "        print(arg)\n",
    "\n",
    "# Example usage\n",
    "print_args('Hello', 'World', 42, [1, 2, 3])\n"
   ]
  },
  {
   "cell_type": "code",
   "execution_count": 12,
   "id": "d8b9020b",
   "metadata": {},
   "outputs": [
    {
     "name": "stdout",
     "output_type": "stream",
     "text": [
      "name: Alice\n",
      "age: 30\n",
      "city: New York\n"
     ]
    }
   ],
   "source": [
    "# Function that takes any number of keyword arguments and prints them\n",
    "def print_kwargs(**kwargs):\n",
    "    for key, value in kwargs.items():\n",
    "        print(f'{key}: {value}')\n",
    "\n",
    "# Example usage\n",
    "print_kwargs(name='Alice', age=30, city='New York')\n"
   ]
  },
  {
   "cell_type": "markdown",
   "id": "74f95179",
   "metadata": {},
   "source": [
    "### Q3. What is an iterator in python? Name the method used to initialise the iterator object and the method used for iteration. Use these methods to print the first five elements of the given list \n",
    "[2, 4, 6, 8, 10, 12, 14, 16,\n",
    "18, 20]."
   ]
  },
  {
   "cell_type": "markdown",
   "id": "6936bdc4",
   "metadata": {},
   "source": [
    "In Python, an iterator is an object that allows you to iterate (loop) over a sequence of items, such as a list, tuple, or any other iterable. It provides two essential methods:\n",
    "\n",
    "__iter__(): This method is used to initialize an iterator object. It returns the iterator object itself. It's called when you create an iterator for an iterable.\n",
    "\n",
    "__next__(): This method is used for iteration. It returns the next item from the iterable. If there are no more items to return, it raises the StopIteration exception."
   ]
  },
  {
   "cell_type": "code",
   "execution_count": 16,
   "id": "db41e6a6",
   "metadata": {},
   "outputs": [
    {
     "name": "stdout",
     "output_type": "stream",
     "text": [
      "2\n",
      "4\n",
      "6\n",
      "8\n",
      "10\n"
     ]
    }
   ],
   "source": [
    "my_list = [2, 4, 6, 8, 10, 12, 14, 16, 18, 20]\n",
    "\n",
    "# Initialize an iterator object\n",
    "my_iter = iter(my_list)\n",
    "for i in range(5):\n",
    "    element = next(my_iter)\n",
    "    print(element)"
   ]
  },
  {
   "cell_type": "code",
   "execution_count": 18,
   "id": "16d51f49",
   "metadata": {},
   "outputs": [
    {
     "name": "stdout",
     "output_type": "stream",
     "text": [
      "2\n",
      "4\n",
      "6\n",
      "8\n",
      "10\n"
     ]
    }
   ],
   "source": [
    "for i in range(5):\n",
    "    lst = my_list[i]\n",
    "    print(lst)"
   ]
  },
  {
   "cell_type": "markdown",
   "id": "47343a17",
   "metadata": {},
   "source": [
    "### Q4. What is a generator function in python? Why yield keyword is used? Give an example of a generator function."
   ]
  },
  {
   "cell_type": "markdown",
   "id": "b4d452f2",
   "metadata": {},
   "source": [
    "In Python, a generator function is a special type of function that allows you to define an iterable sequence of values in a more memory-efficient and lazy-evaluation manner. It's defined using a regular function with one or more yield statements. When you call a generator function, it doesn't execute the function immediately but returns a generator object. The actual execution occurs only when you iterate over the generator object."
   ]
  },
  {
   "cell_type": "code",
   "execution_count": 19,
   "id": "ebffb422",
   "metadata": {},
   "outputs": [
    {
     "name": "stdout",
     "output_type": "stream",
     "text": [
      "5\n",
      "4\n",
      "3\n",
      "2\n",
      "1\n"
     ]
    }
   ],
   "source": [
    "def countdown(n):\n",
    "    while n > 0:\n",
    "        yield n\n",
    "        n -= 1\n",
    "\n",
    "# Create a generator object\n",
    "counter = countdown(5)\n",
    "\n",
    "# Iterate over the generator to print the countdown\n",
    "for number in counter:\n",
    "    print(number)\n"
   ]
  },
  {
   "cell_type": "markdown",
   "id": "e3c35ac9",
   "metadata": {},
   "source": [
    "### Q5. Create a generator function for prime numbers less than 1000. Use the next() method to print the first 20 prime numbers."
   ]
  },
  {
   "cell_type": "code",
   "execution_count": 20,
   "id": "b2c4011d",
   "metadata": {},
   "outputs": [
    {
     "name": "stdout",
     "output_type": "stream",
     "text": [
      "2\n",
      "3\n",
      "5\n",
      "7\n",
      "11\n",
      "13\n",
      "17\n",
      "19\n",
      "23\n",
      "29\n",
      "31\n",
      "37\n",
      "41\n",
      "43\n",
      "47\n",
      "53\n",
      "59\n",
      "61\n",
      "67\n",
      "71\n"
     ]
    }
   ],
   "source": [
    "def is_prime(num):\n",
    "    if num < 2:\n",
    "        return False\n",
    "    for i in range(2, int(num**0.5) + 1):\n",
    "        if num % i == 0:\n",
    "            return False\n",
    "    return True\n",
    "\n",
    "def prime_generator(limit):\n",
    "    count = 0\n",
    "    number = 2\n",
    "\n",
    "    while count < limit:\n",
    "        if is_prime(number):\n",
    "            yield number\n",
    "            count += 1\n",
    "        number += 1\n",
    "\n",
    "# Create a prime number generator\n",
    "prime_gen = prime_generator(20)\n",
    "\n",
    "# Print the first 20 prime numbers\n",
    "for _ in range(20):\n",
    "    prime = next(prime_gen)\n",
    "    print(prime)\n"
   ]
  },
  {
   "cell_type": "code",
   "execution_count": null,
   "id": "f83bfa0b",
   "metadata": {},
   "outputs": [],
   "source": []
  }
 ],
 "metadata": {
  "kernelspec": {
   "display_name": "Python 3 (ipykernel)",
   "language": "python",
   "name": "python3"
  },
  "language_info": {
   "codemirror_mode": {
    "name": "ipython",
    "version": 3
   },
   "file_extension": ".py",
   "mimetype": "text/x-python",
   "name": "python",
   "nbconvert_exporter": "python",
   "pygments_lexer": "ipython3",
   "version": "3.9.7"
  }
 },
 "nbformat": 4,
 "nbformat_minor": 5
}
